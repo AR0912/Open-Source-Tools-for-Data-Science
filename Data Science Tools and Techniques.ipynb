{
  "metadata": {
    "kernelspec": {
      "name": "python",
      "display_name": "Python (Pyodide)",
      "language": "python"
    },
    "language_info": {
      "name": ""
    }
  },
  "nbformat_minor": 4,
  "nbformat": 4,
  "cells": [
    {
      "cell_type": "markdown",
      "source": "## Data Science Tools and Techniques.",
      "metadata": {}
    },
    {
      "cell_type": "markdown",
      "source": "## Introduction\nWelcome to this Jupyterlite Notebook where we'll explore various data science tools and techniques.",
      "metadata": {}
    },
    {
      "cell_type": "markdown",
      "source": "## Data Science Languages\n- Python\n- R\n- SQL",
      "metadata": {}
    },
    {
      "cell_type": "markdown",
      "source": "## Data Science Libraries\n- NumPy\n- Pandas\n- Matplotlib\n- Seaborn\n- Scikit-learn",
      "metadata": {}
    },
    {
      "cell_type": "markdown",
      "source": "## Data Science Tools Table\n\n| Tool        | Description                            |\n|-------------|----------------------------------------|\n| Jupyter     | Interactive computing environment      |\n| TensorFlow  | Open-source machine learning framework |\n| PyTorch     | Deep learning library                   |\n| Spark       | Big data processing engine             |\n| Tableau     | Data visualization software            |",
      "metadata": {}
    },
    {
      "cell_type": "markdown",
      "source": "## Arithmetic Expression Examples\nIn this section, we'll demonstrate basic arithmetic operations.\n1 + 1 = 2",
      "metadata": {}
    },
    {
      "cell_type": "code",
      "source": "# Multiplication and addition\nresult = (5 * 6) + (8 * 2)\nprint(\"Result:\", result)",
      "metadata": {
        "trusted": true
      },
      "outputs": [],
      "execution_count": null
    },
    {
      "cell_type": "code",
      "source": "# Converting minutes to hours\nminutes = 120\nhours = minutes / 60\nprint(\"Hours:\", hours)",
      "metadata": {
        "trusted": true
      },
      "outputs": [],
      "execution_count": null
    },
    {
      "cell_type": "markdown",
      "source": "## Objectives\r\nLearn about various data science tools, languages, and libraries.\r\nPractice basic arithmetic operations in Python.",
      "metadata": {}
    },
    {
      "cell_type": "markdown",
      "source": "## Author\nAarushi Roy",
      "metadata": {}
    }
  ]
}